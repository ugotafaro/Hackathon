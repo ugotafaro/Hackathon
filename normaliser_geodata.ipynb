{
 "cells": [
  {
   "cell_type": "code",
   "execution_count": null,
   "id": "46e22be5",
   "metadata": {},
   "outputs": [],
   "source": [
    "import pandas as pd\n",
    "import json\n",
    "\n",
    "def normalise_lambert(name:str=\"SIM2_1980_1989\"):\n",
    "    path = f\"./data/geo_data/lambert/{name}.csv\"\n",
    "    df = pd.read_csv(path, sep=\";\")\n",
    "    # Delete all columns except LAMBX, LAMBY, DATE, T_Q, TINF_H_Q, TSUP_H_Q, PRENEI_Q, PRELIQ_Q, DLI_Q, SSI_Q, FF_Q\n",
    "    display(df.head())\n",
    "    print(df.columns)\n",
    "    df = df[['LAMBX', 'LAMBY', 'DATE', 'T_Q', 'TINF_H_Q', 'TSUP_H_Q', 'PRENEI_Q', 'PRELIQ_Q', 'DLI_Q', 'SSI_Q', 'FF_Q']]\n",
    "    # Séparer le mois et l'année\n",
    "    df['DATE'] = pd.to_datetime(df['DATE'], format='%Y%m%d')\n",
    "    df['YEAR'] = df['DATE'].dt.year\n",
    "    df['MONTH'] = df['DATE'].dt.month\n",
    "    \n",
    "    # Supprimer la colonne DATE\n",
    "    df = df.drop(columns=['DATE'])\n",
    "    display(df.head())\n",
    "    \n",
    "    # Charger le fichier test.csv\n",
    "    print(df.columns)\n",
    "\n",
    "    # Charger le fichier de conversion ../conversion.csv\n",
    "    df_conversion = pd.read_csv('./data/geo_data/conversion.csv', sep=\";\", decimal=',')\n",
    "    print(df_conversion.columns)\n",
    "\n",
    "    # Fusionner les dataframes sur les colonnes LAMBX et LAMBY\n",
    "    df_merged = pd.merge(df, df_conversion, how='left', left_on=['LAMBX', 'LAMBY'], right_on=['LAMBX (hm)', 'LAMBY (hm)'])\n",
    "    print(df_merged.columns)\n",
    "    print(df_merged.dtypes)\n",
    "\n",
    "    # Supprimer les colonnes LAMBX, LAMBY et les colonnes de conversion inutiles\n",
    "    df = df_merged.drop(['LAMBX (hm)', 'LAMBY (hm)'], axis=1)\n",
    "    display(df.head())\n",
    "\n",
    "    # Charger les données du JSON dans une structure Python\n",
    "    with open('./data/geo_data/stations_data.json', 'r') as json_file:\n",
    "        data = json.load(json_file)\n",
    "\n",
    "    # Définir une fonction pour trouver le département à partir des coordonnées\n",
    "    def find_department(lat, lon):\n",
    "        for feature in data['features'].values():\n",
    "            if feature['properties']['LAT_DG'] == lat and feature['properties']['LON_DG'] == lon:\n",
    "                return feature['properties']['NUM_DEP']\n",
    "        return None\n",
    "\n",
    "    # Appliquer la fonction find_department pour mapper les départements\n",
    "    df['DEPARTEMENT'] = df.apply(lambda row: find_department(row['LAT_DG'], row['LON_DG']), axis=1)\n",
    "\n",
    "    # Enregistrer le dataframe modifié avec les départements attribués\n",
    "    df.to_csv(f'./data/geo_data/lambert/{name}_norm.csv', index=False)\n",
    "    \n",
    "for name in [\"SIM2_1980_1989\", \"SIM2_1990_1999\", \"SIM2_2000_2009\", \"SIM2_2010_2019\"]:\n",
    "    normalise_lambert(name)\n",
    "    "
   ]
  }
 ],
 "metadata": {
  "kernelspec": {
   "display_name": "Python 3 (ipykernel)",
   "language": "python",
   "name": "python3"
  },
  "language_info": {
   "codemirror_mode": {
    "name": "ipython",
    "version": 3
   },
   "file_extension": ".py",
   "mimetype": "text/x-python",
   "name": "python",
   "nbconvert_exporter": "python",
   "pygments_lexer": "ipython3",
   "version": "3.11.5"
  }
 },
 "nbformat": 4,
 "nbformat_minor": 5
}
